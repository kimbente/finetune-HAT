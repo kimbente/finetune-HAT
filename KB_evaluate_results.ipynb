{
 "cells": [
  {
   "cell_type": "code",
   "execution_count": 1,
   "metadata": {},
   "outputs": [
    {
     "name": "stderr",
     "output_type": "stream",
     "text": [
      "/home/kim/anaconda3/lib/python3.11/site-packages/torchvision/io/image.py:13: UserWarning: Failed to load image Python extension: 'libc10_cuda.so: cannot open shared object file: No such file or directory'If you don't plan on using image functionality from `torchvision.io`, you can ignore this warning. Otherwise, there might be something wrong with your environment. Did you have `libjpeg` or `libpng` installed before building `torchvision` from source?\n",
      "  warn(\n"
     ]
    },
    {
     "ename": "ImportError",
     "evalue": "cannot import name 'read_png' from 'torchvision.io' (/home/kim/anaconda3/lib/python3.11/site-packages/torchvision/io/__init__.py)",
     "output_type": "error",
     "traceback": [
      "\u001b[0;31m---------------------------------------------------------------------------\u001b[0m",
      "\u001b[0;31mImportError\u001b[0m                               Traceback (most recent call last)",
      "\u001b[1;32m/home/kim/finetune-HAT/KB_evaluate_results.ipynb Cell 1\u001b[0m line \u001b[0;36m2\n\u001b[1;32m      <a href='vscode-notebook-cell://ssh-remote%2Broger.cs.usyd.edu.au/home/kim/finetune-HAT/KB_evaluate_results.ipynb#W0sdnNjb2RlLXJlbW90ZQ%3D%3D?line=0'>1</a>\u001b[0m \u001b[39mimport\u001b[39;00m \u001b[39mtorch\u001b[39;00m\n\u001b[0;32m----> <a href='vscode-notebook-cell://ssh-remote%2Broger.cs.usyd.edu.au/home/kim/finetune-HAT/KB_evaluate_results.ipynb#W0sdnNjb2RlLXJlbW90ZQ%3D%3D?line=1'>2</a>\u001b[0m \u001b[39mfrom\u001b[39;00m \u001b[39mtorchvision\u001b[39;00m\u001b[39m.\u001b[39;00m\u001b[39mio\u001b[39;00m \u001b[39mimport\u001b[39;00m read_png\n",
      "\u001b[0;31mImportError\u001b[0m: cannot import name 'read_png' from 'torchvision.io' (/home/kim/anaconda3/lib/python3.11/site-packages/torchvision/io/__init__.py)"
     ]
    }
   ],
   "source": [
    "import torch\n",
    "from torchvision.io import read_png"
   ]
  },
  {
   "cell_type": "code",
   "execution_count": 5,
   "metadata": {},
   "outputs": [
    {
     "name": "stdout",
     "output_type": "stream",
     "text": [
      "/home/kim/finetune-HAT/results/HAT-L_SRx4_ImageNet-pretrain/visualization/ANT_Val/0000_HAT-L_SRx4_ImageNet-pretrain.png\n"
     ]
    }
   ],
   "source": [
    "N = 31\n",
    "N = 1\n",
    "for i in range(0, N):\n",
    "    # Pad number\n",
    "    number = str(i)\n",
    "    while(len(number) < 4):\n",
    "        number = '0' + number\n",
    "    # insert into file name\n",
    "    name_lr = \"/home/kim/finetune-HAT/results/HAT-L_SRx4_ImageNet-pretrain/visualization/ANT_Val/\" + number + \"_HAT-L_SRx4_ImageNet-pretrain.png\"\n",
    "    read_image()\n",
    "    print(name_lr)"
   ]
  }
 ],
 "metadata": {
  "kernelspec": {
   "display_name": "Python 3",
   "language": "python",
   "name": "python3"
  },
  "language_info": {
   "codemirror_mode": {
    "name": "ipython",
    "version": 3
   },
   "file_extension": ".py",
   "mimetype": "text/x-python",
   "name": "python",
   "nbconvert_exporter": "python",
   "pygments_lexer": "ipython3",
   "version": "3.11.3"
  }
 },
 "nbformat": 4,
 "nbformat_minor": 2
}
